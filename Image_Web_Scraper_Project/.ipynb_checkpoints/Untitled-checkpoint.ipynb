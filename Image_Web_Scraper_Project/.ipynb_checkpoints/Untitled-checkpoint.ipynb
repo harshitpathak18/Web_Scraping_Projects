{
 "cells": [
  {
   "cell_type": "code",
   "execution_count": null,
   "metadata": {},
   "outputs": [],
   "source": [
    "from flask import Flask,request,render_template\n",
    "from bs4 import BeautifulSoup as bs\n",
    "import requests\n",
    "from urllib.request import urlopen\n",
    "from selenium import webdriver\n",
    "\n",
    "\n",
    "def image(name):\n",
    "    name=name.replace(\" \",'+')\n",
    "    link=f\"https://www.google.com/search?q={name}&sxsrf=AJOqlzUNK5ll7vvucKiTtERKVjUDfV2hww:1678953527794&source=lnms&tbm=isch&sa=X&ved=2ahUKEwiAivmk_d_9AhVjJrcAHQeBC-sQ_AUoAnoECAEQBA&biw=1239&bih=593&dpr=1.55\"\n",
    "    response=requests.get(link).content\n",
    "    clean_html=bs(response,'html.parser')\n",
    "    images=clean_html.find_all('img')\n",
    "        \n",
    "    del images[0]\n",
    "    dictionary={}\n",
    "    count=0\n",
    "    for i in images:\n",
    "        dictionary.setdefault(count,{\n",
    "            \"image\":i['src']\n",
    "        })\n",
    "        \n",
    "        count=count+1\n",
    "    return dictionary\n",
    "\n",
    "\n",
    "app=Flask(__name__)\n",
    "\n",
    "@app.route('/',methods=['GET',\"POST\"])\n",
    "def index():\n",
    "    \n",
    "    if request.methods==\"POST\":\n",
    "        \n",
    "        name=request.form['search']\n",
    "        extracted_images=image(name)\n",
    "        \n",
    "        \n",
    "        return render_template('index.html',data=extracted_images)\n",
    "        \n",
    "    return render_template('index.html')\n",
    "\n",
    "if __name__==\"__main__\":\n",
    "    app.run()"
   ]
  },
  {
   "cell_type": "code",
   "execution_count": 69,
   "metadata": {},
   "outputs": [],
   "source": []
  },
  {
   "cell_type": "code",
   "execution_count": null,
   "metadata": {},
   "outputs": [],
   "source": []
  }
 ],
 "metadata": {
  "kernelspec": {
   "display_name": "Python 3",
   "language": "python",
   "name": "python3"
  },
  "language_info": {
   "codemirror_mode": {
    "name": "ipython",
    "version": 3
   },
   "file_extension": ".py",
   "mimetype": "text/x-python",
   "name": "python",
   "nbconvert_exporter": "python",
   "pygments_lexer": "ipython3",
   "version": "3.8.5"
  }
 },
 "nbformat": 4,
 "nbformat_minor": 4
}
